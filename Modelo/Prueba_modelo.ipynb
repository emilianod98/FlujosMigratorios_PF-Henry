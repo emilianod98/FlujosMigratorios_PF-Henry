{
 "cells": [
  {
   "cell_type": "code",
   "execution_count": 5,
   "metadata": {},
   "outputs": [],
   "source": [
    "import pandas as pd\n",
    "import joblib"
   ]
  },
  {
   "cell_type": "code",
   "execution_count": 6,
   "metadata": {},
   "outputs": [],
   "source": [
    "def Predecir(Country_1, Country_2, Year):\n",
    "    pd.options.mode.chained_assignment = None\n",
    "\n",
    "    model = joblib.load('modelo_entrenado.joblib')\n",
    "    scaler = joblib.load('scaler_entrenado.joblib')\n",
    "    Dataset = pd.read_csv(\"Dataset_modelo.csv\")\n",
    "\n",
    "    Data = Dataset[(Dataset['Country 1'] == Country_1) & (Dataset['Country 2'] == Country_2) & (Dataset[\"Year\"] == Year)]\n",
    "    Y_original = Data.iloc[0, 5]\n",
    "\n",
    "    columns_to_standardize = Data.columns[5:58]\n",
    "    Data.loc[:, columns_to_standardize.to_list()] = scaler.transform(Data.loc[:, columns_to_standardize.to_list()])\n",
    "\n",
    "    X = Data.iloc[:, 6:58]\n",
    "\n",
    "    prediccion = model.predict(X)\n",
    "    Data[\"Diff\"] = prediccion\n",
    "\n",
    "    Data.loc[:, columns_to_standardize] = scaler.inverse_transform(Data.loc[:, columns_to_standardize])\n",
    "    prediccion = Data[\"Diff\"].values[0]\n",
    "    prediccion = prediccion.round(2)\n",
    "    \n",
    "    return f\"Para los países {Country_1} y {Country_2} en el año {Year}, el estimado de migración es {prediccion} cuando el original es {Y_original}\""
   ]
  },
  {
   "cell_type": "code",
   "execution_count": 7,
   "metadata": {},
   "outputs": [
    {
     "data": {
      "text/html": [
       "<div>\n",
       "<style scoped>\n",
       "    .dataframe tbody tr th:only-of-type {\n",
       "        vertical-align: middle;\n",
       "    }\n",
       "\n",
       "    .dataframe tbody tr th {\n",
       "        vertical-align: top;\n",
       "    }\n",
       "\n",
       "    .dataframe thead th {\n",
       "        text-align: right;\n",
       "    }\n",
       "</style>\n",
       "<table border=\"1\" class=\"dataframe\">\n",
       "  <thead>\n",
       "    <tr style=\"text-align: right;\">\n",
       "      <th></th>\n",
       "      <th>Year</th>\n",
       "      <th>Country Code 1</th>\n",
       "      <th>Country 1</th>\n",
       "      <th>Country Code</th>\n",
       "      <th>Country 2</th>\n",
       "      <th>Diff</th>\n",
       "      <th>Value</th>\n",
       "      <th>Five-year change immigrants</th>\n",
       "      <th>Emigrants</th>\n",
       "      <th>International migrants</th>\n",
       "      <th>...</th>\n",
       "      <th>Share below $3.65 a day_2</th>\n",
       "      <th>Share below $6.85 a day_2</th>\n",
       "      <th>Share below $10 a day_2</th>\n",
       "      <th>Share below $20 a day_2</th>\n",
       "      <th>Share below $30 a day_2</th>\n",
       "      <th>Share below $40 a day_2</th>\n",
       "      <th>40% of median - share of population below poverty line_2</th>\n",
       "      <th>50% of median - share of population below poverty line_2</th>\n",
       "      <th>60% of median - share of population below poverty line_2</th>\n",
       "      <th>Are Borders</th>\n",
       "    </tr>\n",
       "  </thead>\n",
       "  <tbody>\n",
       "    <tr>\n",
       "      <th>144969</th>\n",
       "      <td>2010</td>\n",
       "      <td>BHR</td>\n",
       "      <td>Bahrain</td>\n",
       "      <td>AFG</td>\n",
       "      <td>Afghanistan</td>\n",
       "      <td>221.0</td>\n",
       "      <td>613.0</td>\n",
       "      <td>262388.0</td>\n",
       "      <td>52235.0</td>\n",
       "      <td>666406.0</td>\n",
       "      <td>...</td>\n",
       "      <td>0.0</td>\n",
       "      <td>0.0</td>\n",
       "      <td>0.0</td>\n",
       "      <td>0.0</td>\n",
       "      <td>0.0</td>\n",
       "      <td>0.0</td>\n",
       "      <td>0.0</td>\n",
       "      <td>0.0</td>\n",
       "      <td>0.0</td>\n",
       "      <td>0</td>\n",
       "    </tr>\n",
       "    <tr>\n",
       "      <th>144970</th>\n",
       "      <td>2010</td>\n",
       "      <td>BHR</td>\n",
       "      <td>Bahrain</td>\n",
       "      <td>AFG</td>\n",
       "      <td>Afghanistan</td>\n",
       "      <td>0.0</td>\n",
       "      <td>0.0</td>\n",
       "      <td>262388.0</td>\n",
       "      <td>52235.0</td>\n",
       "      <td>666406.0</td>\n",
       "      <td>...</td>\n",
       "      <td>0.0</td>\n",
       "      <td>0.0</td>\n",
       "      <td>0.0</td>\n",
       "      <td>0.0</td>\n",
       "      <td>0.0</td>\n",
       "      <td>0.0</td>\n",
       "      <td>0.0</td>\n",
       "      <td>0.0</td>\n",
       "      <td>0.0</td>\n",
       "      <td>0</td>\n",
       "    </tr>\n",
       "  </tbody>\n",
       "</table>\n",
       "<p>2 rows × 58 columns</p>\n",
       "</div>"
      ],
      "text/plain": [
       "        Year Country Code 1 Country 1 Country Code    Country 2   Diff  Value  \\\n",
       "144969  2010            BHR   Bahrain          AFG  Afghanistan  221.0  613.0   \n",
       "144970  2010            BHR   Bahrain          AFG  Afghanistan    0.0    0.0   \n",
       "\n",
       "        Five-year change immigrants  Emigrants  International migrants  ...  \\\n",
       "144969                     262388.0    52235.0                666406.0  ...   \n",
       "144970                     262388.0    52235.0                666406.0  ...   \n",
       "\n",
       "        Share below $3.65 a day_2  Share below $6.85 a day_2  \\\n",
       "144969                        0.0                        0.0   \n",
       "144970                        0.0                        0.0   \n",
       "\n",
       "        Share below $10 a day_2  Share below $20 a day_2  \\\n",
       "144969                      0.0                      0.0   \n",
       "144970                      0.0                      0.0   \n",
       "\n",
       "        Share below $30 a day_2  Share below $40 a day_2  \\\n",
       "144969                      0.0                      0.0   \n",
       "144970                      0.0                      0.0   \n",
       "\n",
       "        40% of median - share of population below poverty line_2  \\\n",
       "144969                                                0.0          \n",
       "144970                                                0.0          \n",
       "\n",
       "        50% of median - share of population below poverty line_2  \\\n",
       "144969                                                0.0          \n",
       "144970                                                0.0          \n",
       "\n",
       "        60% of median - share of population below poverty line_2  Are Borders  \n",
       "144969                                                0.0                   0  \n",
       "144970                                                0.0                   0  \n",
       "\n",
       "[2 rows x 58 columns]"
      ]
     },
     "execution_count": 7,
     "metadata": {},
     "output_type": "execute_result"
    }
   ],
   "source": [
    "Dataset = pd.read_csv(\"Dataset_modelo.csv\")\n",
    "Data = Dataset[(Dataset['Country 1'] == \"Bahrain\") & (Dataset['Country 2'] == \"Afghanistan\") & (Dataset[\"Year\"] == 2010)]\n",
    "Data"
   ]
  },
  {
   "cell_type": "code",
   "execution_count": 10,
   "metadata": {},
   "outputs": [
    {
     "data": {
      "text/plain": [
       "'Para los países Germany y Egypt en el año 2020, el estimado de migración es -1758.79 cuando el original es -2801.0'"
      ]
     },
     "execution_count": 10,
     "metadata": {},
     "output_type": "execute_result"
    }
   ],
   "source": [
    "Predecir(\"Germany\", \"Egypt\", 2020)"
   ]
  },
  {
   "cell_type": "code",
   "execution_count": null,
   "metadata": {},
   "outputs": [],
   "source": [
    "model = joblib.load('modelo_entrenado.joblib')\n",
    "scaler = joblib.load('scaler_entrenado.joblib')\n",
    "Dataset = pd.read_csv(\"Dataset_modelo.csv\")"
   ]
  },
  {
   "cell_type": "code",
   "execution_count": null,
   "metadata": {},
   "outputs": [],
   "source": [
    "Data = Dataset[(Dataset['Country 1'] == \"Vietnam\") & (Dataset['Country 2'] == \"Albania\") & (Dataset[\"Year\"] == 2020)]\n",
    "Y_original = Data.iloc[:, 5]"
   ]
  },
  {
   "cell_type": "code",
   "execution_count": null,
   "metadata": {},
   "outputs": [],
   "source": [
    "columns_to_standardize = Data.columns[5:58]\n",
    "Data.loc[:, columns_to_standardize.to_list()] = scaler.transform(Data.loc[:, columns_to_standardize.to_list()])\n",
    "X = Data.iloc[:, 6:58]"
   ]
  },
  {
   "cell_type": "code",
   "execution_count": null,
   "metadata": {},
   "outputs": [
    {
     "name": "stdout",
     "output_type": "stream",
     "text": [
      "Para los países Vietnam y Albania en el año 2020, el estimado de migración es 259021   -0.000104\n",
      "Name: Diff, dtype: float64 cuando el original es 259021    0.0\n",
      "Name: Diff, dtype: float64\n"
     ]
    }
   ],
   "source": [
    "columns_to_standardize = Data.columns[5:58]\n",
    "Data.loc[:, columns_to_standardize] = scaler.fit_transform(Data.loc[:, columns_to_standardize])\n",
    "X = Data.iloc[:, 6:61]\n",
    "\n",
    "prediccion = model.predict(X)\n",
    "Data[\"Diff\"] = prediccion\n",
    "\n",
    "Data.loc[:, columns_to_standardize] = scaler.inverse_transform(Data.loc[:, columns_to_standardize])\n",
    "prediccion = Data[\"Diff\"]\n",
    "\n",
    "print(f\"Para los países Vietnam y Albania en el año 2020, el estimado de migración es {prediccion} cuando el original es {Y_original}\")"
   ]
  },
  {
   "cell_type": "code",
   "execution_count": null,
   "metadata": {},
   "outputs": [
    {
     "data": {
      "text/plain": [
       "259021   -0.000104\n",
       "Name: Diff, dtype: float64"
      ]
     },
     "execution_count": 297,
     "metadata": {},
     "output_type": "execute_result"
    }
   ],
   "source": [
    "Data[\"Diff\"]"
   ]
  }
 ],
 "metadata": {
  "kernelspec": {
   "display_name": "Python 3",
   "language": "python",
   "name": "python3"
  },
  "language_info": {
   "codemirror_mode": {
    "name": "ipython",
    "version": 3
   },
   "file_extension": ".py",
   "mimetype": "text/x-python",
   "name": "python",
   "nbconvert_exporter": "python",
   "pygments_lexer": "ipython3",
   "version": "3.10.6"
  },
  "orig_nbformat": 4
 },
 "nbformat": 4,
 "nbformat_minor": 2
}
