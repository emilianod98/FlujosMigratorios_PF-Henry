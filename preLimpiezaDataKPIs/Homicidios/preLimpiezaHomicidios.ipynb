{
 "cells": [
  {
   "attachments": {},
   "cell_type": "markdown",
   "metadata": {},
   "source": [
    "Importacion de Liberarias"
   ]
  },
  {
   "cell_type": "code",
   "execution_count": 1,
   "metadata": {},
   "outputs": [],
   "source": [
    "import pandas as pd\n",
    "import numpy as np"
   ]
  },
  {
   "attachments": {},
   "cell_type": "markdown",
   "metadata": {},
   "source": [
    "Carga de data homicidios"
   ]
  },
  {
   "cell_type": "code",
   "execution_count": 2,
   "metadata": {},
   "outputs": [
    {
     "data": {
      "text/html": [
       "<div>\n",
       "<style scoped>\n",
       "    .dataframe tbody tr th:only-of-type {\n",
       "        vertical-align: middle;\n",
       "    }\n",
       "\n",
       "    .dataframe tbody tr th {\n",
       "        vertical-align: top;\n",
       "    }\n",
       "\n",
       "    .dataframe thead th {\n",
       "        text-align: right;\n",
       "    }\n",
       "</style>\n",
       "<table border=\"1\" class=\"dataframe\">\n",
       "  <thead>\n",
       "    <tr style=\"text-align: right;\">\n",
       "      <th></th>\n",
       "      <th>Country Name</th>\n",
       "      <th>Country Code</th>\n",
       "      <th>Year</th>\n",
       "      <th>Homicides</th>\n",
       "    </tr>\n",
       "  </thead>\n",
       "  <tbody>\n",
       "    <tr>\n",
       "      <th>0</th>\n",
       "      <td>Afghanistan</td>\n",
       "      <td>AFG</td>\n",
       "      <td>2007</td>\n",
       "      <td>3657.0</td>\n",
       "    </tr>\n",
       "    <tr>\n",
       "      <th>1</th>\n",
       "      <td>Afghanistan</td>\n",
       "      <td>AFG</td>\n",
       "      <td>2008</td>\n",
       "      <td>3785.0</td>\n",
       "    </tr>\n",
       "    <tr>\n",
       "      <th>2</th>\n",
       "      <td>Afghanistan</td>\n",
       "      <td>AFG</td>\n",
       "      <td>2009</td>\n",
       "      <td>3874.0</td>\n",
       "    </tr>\n",
       "    <tr>\n",
       "      <th>3</th>\n",
       "      <td>Afghanistan</td>\n",
       "      <td>AFG</td>\n",
       "      <td>2011</td>\n",
       "      <td>4170.0</td>\n",
       "    </tr>\n",
       "    <tr>\n",
       "      <th>4</th>\n",
       "      <td>Afghanistan</td>\n",
       "      <td>AFG</td>\n",
       "      <td>2012</td>\n",
       "      <td>4245.0</td>\n",
       "    </tr>\n",
       "    <tr>\n",
       "      <th>...</th>\n",
       "      <td>...</td>\n",
       "      <td>...</td>\n",
       "      <td>...</td>\n",
       "      <td>...</td>\n",
       "    </tr>\n",
       "    <tr>\n",
       "      <th>6888</th>\n",
       "      <td>Zimbabwe</td>\n",
       "      <td>ZWE</td>\n",
       "      <td>2015</td>\n",
       "      <td>1302.0</td>\n",
       "    </tr>\n",
       "    <tr>\n",
       "      <th>6889</th>\n",
       "      <td>Zimbabwe</td>\n",
       "      <td>ZWE</td>\n",
       "      <td>2016</td>\n",
       "      <td>1342.0</td>\n",
       "    </tr>\n",
       "    <tr>\n",
       "      <th>6890</th>\n",
       "      <td>Zimbabwe</td>\n",
       "      <td>ZWE</td>\n",
       "      <td>2017</td>\n",
       "      <td>1363.0</td>\n",
       "    </tr>\n",
       "    <tr>\n",
       "      <th>6891</th>\n",
       "      <td>Zimbabwe</td>\n",
       "      <td>ZWE</td>\n",
       "      <td>2018</td>\n",
       "      <td>1396.0</td>\n",
       "    </tr>\n",
       "    <tr>\n",
       "      <th>6892</th>\n",
       "      <td>Zimbabwe</td>\n",
       "      <td>ZWE</td>\n",
       "      <td>2019</td>\n",
       "      <td>1434.0</td>\n",
       "    </tr>\n",
       "  </tbody>\n",
       "</table>\n",
       "<p>6893 rows × 4 columns</p>\n",
       "</div>"
      ],
      "text/plain": [
       "     Country Name Country Code  Year  Homicides\n",
       "0     Afghanistan          AFG  2007     3657.0\n",
       "1     Afghanistan          AFG  2008     3785.0\n",
       "2     Afghanistan          AFG  2009     3874.0\n",
       "3     Afghanistan          AFG  2011     4170.0\n",
       "4     Afghanistan          AFG  2012     4245.0\n",
       "...           ...          ...   ...        ...\n",
       "6888     Zimbabwe          ZWE  2015     1302.0\n",
       "6889     Zimbabwe          ZWE  2016     1342.0\n",
       "6890     Zimbabwe          ZWE  2017     1363.0\n",
       "6891     Zimbabwe          ZWE  2018     1396.0\n",
       "6892     Zimbabwe          ZWE  2019     1434.0\n",
       "\n",
       "[6893 rows x 4 columns]"
      ]
     },
     "execution_count": 2,
     "metadata": {},
     "output_type": "execute_result"
    }
   ],
   "source": [
    "df_homicidios = pd.read_csv(\"./annual-number-of-deaths-by-cause.csv\")\n",
    "# Nos quedamos con las columnas que queremos\n",
    "df_homicidios = df_homicidios[[\"Entity\", \"Code\", \"Year\", \"Deaths - Interpersonal violence - Sex: Both - Age: All Ages (Number)\"]]\n",
    "# cambio de nombre a los campos\n",
    "df_homicidios.rename(columns={ 'Entity': 'Country Name', 'Code': 'Country Code' ,'Deaths - Interpersonal violence - Sex: Both - Age: All Ages (Number)': 'Homicides' })"
   ]
  },
  {
   "attachments": {},
   "cell_type": "markdown",
   "metadata": {},
   "source": [
    "Carga de  data poblacion total"
   ]
  },
  {
   "cell_type": "code",
   "execution_count": null,
   "metadata": {},
   "outputs": [],
   "source": [
    "df_total = pd.read_csv(\"./API_SP.POP.TOTL_DS2_es_csv_v2_5368140.csv\")\n",
    "df_total\n",
    "#df_total['2007']"
   ]
  },
  {
   "attachments": {},
   "cell_type": "markdown",
   "metadata": {},
   "source": [
    "Traemos los valores de la poblacion mundial a la data de homicidios"
   ]
  },
  {
   "cell_type": "code",
   "execution_count": 4,
   "metadata": {},
   "outputs": [],
   "source": [
    "import pandas as pd\n",
    "\n",
    "# leer los datos en dos DataFrames diferentes\n",
    "\n",
    "df1 = df_homicidios.rename(columns={ 'Entity': 'Country Name', 'Code': 'Country Code' ,'Deaths - Interpersonal violence - Sex: Both - Age: All Ages (Number)': 'Homicides' })\n",
    "df2 = df_total\n",
    "# crear una nueva columna en df1 para almacenar los valores correspondientes de df2\n",
    "# crear una nueva columna en df1 para almacenar la población\n",
    "df1['Poblacion'] = 0\n",
    "\n",
    "# iterar sobre las filas de df1\n",
    "for index, row in df1.iterrows():\n",
    "    # obtener el país y el año de la fila actual\n",
    "    pais = row['Country Code']\n",
    "    anio = row['Year']\n",
    "    \n",
    "    # buscar la columna correspondiente en df2\n",
    "    poblacion_col = str(anio)\n",
    "    if poblacion_col in df2.columns:\n",
    "        # buscar la fila correspondiente en df2\n",
    "        df2_fila = df2[(df2['Country Code'] == pais)]\n",
    "        \n",
    "        # si se encontró una fila, obtener el valor de la población correspondiente\n",
    "        if not df2_fila.empty:\n",
    "            poblacion = df2_fila[poblacion_col].values[0]\n",
    "            df1.at[index, 'Poblacion'] = poblacion\n"
   ]
  },
  {
   "cell_type": "code",
   "execution_count": 6,
   "metadata": {},
   "outputs": [
    {
     "data": {
      "text/plain": [
       "Country Name      0\n",
       "Country Code    704\n",
       "Year              0\n",
       "Homicides        53\n",
       "Poblacion         0\n",
       "dtype: int64"
      ]
     },
     "execution_count": 6,
     "metadata": {},
     "output_type": "execute_result"
    }
   ],
   "source": [
    "df1.isna().sum()"
   ]
  },
  {
   "cell_type": "code",
   "execution_count": 9,
   "metadata": {},
   "outputs": [
    {
     "data": {
      "text/html": [
       "<div>\n",
       "<style scoped>\n",
       "    .dataframe tbody tr th:only-of-type {\n",
       "        vertical-align: middle;\n",
       "    }\n",
       "\n",
       "    .dataframe tbody tr th {\n",
       "        vertical-align: top;\n",
       "    }\n",
       "\n",
       "    .dataframe thead th {\n",
       "        text-align: right;\n",
       "    }\n",
       "</style>\n",
       "<table border=\"1\" class=\"dataframe\">\n",
       "  <thead>\n",
       "    <tr style=\"text-align: right;\">\n",
       "      <th></th>\n",
       "      <th>Country Name</th>\n",
       "      <th>Country Code</th>\n",
       "      <th>Year</th>\n",
       "      <th>Homicides</th>\n",
       "      <th>Poblacion</th>\n",
       "    </tr>\n",
       "  </thead>\n",
       "  <tbody>\n",
       "    <tr>\n",
       "      <th>0</th>\n",
       "      <td>Afghanistan</td>\n",
       "      <td>AFG</td>\n",
       "      <td>2007</td>\n",
       "      <td>3657.0</td>\n",
       "      <td>25903301</td>\n",
       "    </tr>\n",
       "    <tr>\n",
       "      <th>1</th>\n",
       "      <td>Afghanistan</td>\n",
       "      <td>AFG</td>\n",
       "      <td>2008</td>\n",
       "      <td>3785.0</td>\n",
       "      <td>26427199</td>\n",
       "    </tr>\n",
       "    <tr>\n",
       "      <th>2</th>\n",
       "      <td>Afghanistan</td>\n",
       "      <td>AFG</td>\n",
       "      <td>2009</td>\n",
       "      <td>3874.0</td>\n",
       "      <td>27385307</td>\n",
       "    </tr>\n",
       "    <tr>\n",
       "      <th>3</th>\n",
       "      <td>Afghanistan</td>\n",
       "      <td>AFG</td>\n",
       "      <td>2011</td>\n",
       "      <td>4170.0</td>\n",
       "      <td>29249157</td>\n",
       "    </tr>\n",
       "    <tr>\n",
       "      <th>4</th>\n",
       "      <td>Afghanistan</td>\n",
       "      <td>AFG</td>\n",
       "      <td>2012</td>\n",
       "      <td>4245.0</td>\n",
       "      <td>30466479</td>\n",
       "    </tr>\n",
       "    <tr>\n",
       "      <th>...</th>\n",
       "      <td>...</td>\n",
       "      <td>...</td>\n",
       "      <td>...</td>\n",
       "      <td>...</td>\n",
       "      <td>...</td>\n",
       "    </tr>\n",
       "    <tr>\n",
       "      <th>6888</th>\n",
       "      <td>Zimbabwe</td>\n",
       "      <td>ZWE</td>\n",
       "      <td>2015</td>\n",
       "      <td>1302.0</td>\n",
       "      <td>14154937</td>\n",
       "    </tr>\n",
       "    <tr>\n",
       "      <th>6889</th>\n",
       "      <td>Zimbabwe</td>\n",
       "      <td>ZWE</td>\n",
       "      <td>2016</td>\n",
       "      <td>1342.0</td>\n",
       "      <td>14452704</td>\n",
       "    </tr>\n",
       "    <tr>\n",
       "      <th>6890</th>\n",
       "      <td>Zimbabwe</td>\n",
       "      <td>ZWE</td>\n",
       "      <td>2017</td>\n",
       "      <td>1363.0</td>\n",
       "      <td>14751101</td>\n",
       "    </tr>\n",
       "    <tr>\n",
       "      <th>6891</th>\n",
       "      <td>Zimbabwe</td>\n",
       "      <td>ZWE</td>\n",
       "      <td>2018</td>\n",
       "      <td>1396.0</td>\n",
       "      <td>15052184</td>\n",
       "    </tr>\n",
       "    <tr>\n",
       "      <th>6892</th>\n",
       "      <td>Zimbabwe</td>\n",
       "      <td>ZWE</td>\n",
       "      <td>2019</td>\n",
       "      <td>1434.0</td>\n",
       "      <td>15354608</td>\n",
       "    </tr>\n",
       "  </tbody>\n",
       "</table>\n",
       "<p>6893 rows × 5 columns</p>\n",
       "</div>"
      ],
      "text/plain": [
       "     Country Name Country Code  Year  Homicides  Poblacion\n",
       "0     Afghanistan          AFG  2007     3657.0   25903301\n",
       "1     Afghanistan          AFG  2008     3785.0   26427199\n",
       "2     Afghanistan          AFG  2009     3874.0   27385307\n",
       "3     Afghanistan          AFG  2011     4170.0   29249157\n",
       "4     Afghanistan          AFG  2012     4245.0   30466479\n",
       "...           ...          ...   ...        ...        ...\n",
       "6888     Zimbabwe          ZWE  2015     1302.0   14154937\n",
       "6889     Zimbabwe          ZWE  2016     1342.0   14452704\n",
       "6890     Zimbabwe          ZWE  2017     1363.0   14751101\n",
       "6891     Zimbabwe          ZWE  2018     1396.0   15052184\n",
       "6892     Zimbabwe          ZWE  2019     1434.0   15354608\n",
       "\n",
       "[6893 rows x 5 columns]"
      ]
     },
     "execution_count": 9,
     "metadata": {},
     "output_type": "execute_result"
    }
   ],
   "source": [
    "# df1[df1['Homicides'] == 'NaN']\n",
    "df1[df1.isna() == False]"
   ]
  },
  {
   "cell_type": "code",
   "execution_count": null,
   "metadata": {},
   "outputs": [],
   "source": [
    "filas_nulas = df1[df1['Homicides'].isnull()]\n",
    "\n",
    "# imprimir las filas encontradas\n",
    "print(filas_nulas)"
   ]
  },
  {
   "cell_type": "code",
   "execution_count": null,
   "metadata": {},
   "outputs": [],
   "source": [
    "df1.info()"
   ]
  },
  {
   "cell_type": "code",
   "execution_count": 66,
   "metadata": {},
   "outputs": [],
   "source": [
    "df1 = df1.dropna()"
   ]
  },
  {
   "cell_type": "code",
   "execution_count": 70,
   "metadata": {},
   "outputs": [
    {
     "data": {
      "text/plain": [
       "Country Name           0\n",
       "Country Code           0\n",
       "Year                   0\n",
       "Homicides              0\n",
       "Poblacion              0\n",
       "Tasa por cada 100K    90\n",
       "dtype: int64"
      ]
     },
     "execution_count": 70,
     "metadata": {},
     "output_type": "execute_result"
    }
   ],
   "source": [
    "df1.isnull().sum()"
   ]
  },
  {
   "attachments": {},
   "cell_type": "markdown",
   "metadata": {},
   "source": [
    "Generando la tasa de homicidios por cada 100K"
   ]
  },
  {
   "cell_type": "code",
   "execution_count": 68,
   "metadata": {},
   "outputs": [
    {
     "name": "stderr",
     "output_type": "stream",
     "text": [
      "C:\\Users\\alfre\\AppData\\Local\\Temp\\ipykernel_32264\\649393328.py:1: SettingWithCopyWarning: \n",
      "A value is trying to be set on a copy of a slice from a DataFrame.\n",
      "Try using .loc[row_indexer,col_indexer] = value instead\n",
      "\n",
      "See the caveats in the documentation: https://pandas.pydata.org/pandas-docs/stable/user_guide/indexing.html#returning-a-view-versus-a-copy\n",
      "  df1['Tasa por cada 100K'] = (df1['Homicides'] / df1['Poblacion']) * 100000\n"
     ]
    }
   ],
   "source": [
    "df1['Tasa por cada 100K'] = (df1['Homicides'] / df1['Poblacion']) * 100000"
   ]
  },
  {
   "cell_type": "code",
   "execution_count": null,
   "metadata": {},
   "outputs": [],
   "source": [
    "df1[df1['Country Name'] == 'Peru']"
   ]
  },
  {
   "attachments": {},
   "cell_type": "markdown",
   "metadata": {},
   "source": [
    "Guardado de Tabla homicidios por cada 100K habitantes"
   ]
  },
  {
   "cell_type": "code",
   "execution_count": 78,
   "metadata": {},
   "outputs": [],
   "source": [
    "df1.to_csv('homicides100K.csv', index=False)"
   ]
  },
  {
   "attachments": {},
   "cell_type": "markdown",
   "metadata": {},
   "source": [
    "Remesas"
   ]
  },
  {
   "attachments": {},
   "cell_type": "markdown",
   "metadata": {},
   "source": [
    "Promedio de homicidios para los paises top 5"
   ]
  },
  {
   "cell_type": "code",
   "execution_count": null,
   "metadata": {},
   "outputs": [],
   "source": [
    "df_top5 = df1[(df1['Country Name'] == 'Spain') | (df1['Country Name'] == 'Belgium') | (df1['Country Name'] == 'Switzerland') | (df1['Country Name'] == 'Denmark') | (df1['Country Name'] == 'Germany')]"
   ]
  },
  {
   "cell_type": "code",
   "execution_count": 96,
   "metadata": {},
   "outputs": [
    {
     "data": {
      "image/png": "[encoded data removed]",
      "text/plain": [
       "<Figure size 640x480 with 1 Axes>"
      ]
     },
     "metadata": {},
     "output_type": "display_data"
    }
   ],
   "source": [
    "import seaborn as sns\n",
    "\n",
    "# Crea un histograma de la columna 'Tasa por cada 100K' para todos los países\n",
    "sns.histplot(data=df_top5, x='Tasa por cada 100K', kde=True)\n",
    "\n",
    "# Calcula la media de la columna 'Tasa por cada 100K'\n",
    "mean = df_top5['Tasa por cada 100K'].mean()\n",
    "\n",
    "# Agrega una línea vertical en la media\n",
    "plt.axvline(x=mean, color='red', linestyle='--', label=f'Media: {mean:.2f}')\n",
    "\n",
    "# Personaliza la gráfica\n",
    "plt.xlabel('Tasa por cada 100K')\n",
    "plt.ylabel('Frecuencia')\n",
    "plt.title('Distribución de la tasa por cada 100K para todos los países')\n",
    "plt.legend()\n",
    "\n",
    "# Muestra la gráfica\n",
    "plt.show()\n"
   ]
  },
  {
   "cell_type": "code",
   "execution_count": 98,
   "metadata": {},
   "outputs": [
    {
     "data": {
      "text/plain": [
       "2.1070343996371887"
      ]
     },
     "execution_count": 98,
     "metadata": {},
     "output_type": "execute_result"
    }
   ],
   "source": [
    "percentil_95 = df_top5['Tasa por cada 100K'].quantile(q=0.95)\n",
    "percentil_95"
   ]
  }
 ],
 "metadata": {
  "kernelspec": {
   "display_name": "Python 3",
   "language": "python",
   "name": "python3"
  },
  "language_info": {
   "codemirror_mode": {
    "name": "ipython",
    "version": 3
   },
   "file_extension": ".py",
   "mimetype": "text/x-python",
   "name": "python",
   "nbconvert_exporter": "python",
   "pygments_lexer": "ipython3",
   "version": "3.10.5"
  },
  "orig_nbformat": 4
 },
 "nbformat": 4,
 "nbformat_minor": 2
}
