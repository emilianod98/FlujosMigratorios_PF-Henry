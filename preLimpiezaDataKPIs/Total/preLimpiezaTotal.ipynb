{
 "cells": [
  {
   "attachments": {},
   "cell_type": "markdown",
   "metadata": {},
   "source": [
    "Carga de datos"
   ]
  },
  {
   "cell_type": "code",
   "execution_count": 5,
   "metadata": {},
   "outputs": [],
   "source": [
    "import pandas as pd\n",
    "import numpy as np\n",
    "import matplotlib as plt"
   ]
  },
  {
   "attachments": {},
   "cell_type": "markdown",
   "metadata": {},
   "source": [
    "Carga de data Poblacion Mundial"
   ]
  },
  {
   "cell_type": "code",
   "execution_count": 7,
   "metadata": {},
   "outputs": [],
   "source": [
    "df_mundial = pd.read_csv(\"API_SM.POP.NETM_DS2_es_csv_v2_5461554.csv\")"
   ]
  },
  {
   "cell_type": "code",
   "execution_count": null,
   "metadata": {},
   "outputs": [],
   "source": [
    "df_mundial"
   ]
  },
  {
   "cell_type": "code",
   "execution_count": null,
   "metadata": {},
   "outputs": [],
   "source": [
    "import pandas as pd\n",
    "\n",
    "# Melt the DataFrame to create the 'Year' column\n",
    "df_mundial_melt = pd.melt(df_mundial, id_vars=['Country Name', 'Country Code', 'Indicator Name', 'Indicator Code'],\n",
    "                          value_vars=[str(year) for year in range(1960, 2023)],\n",
    "                          var_name='Year', value_name='Value')\n",
    "\n",
    "# Drop the 'Indicator Name' and 'Indicator Code' columns since they are not relevant for your analysis\n",
    "df_mundial_melt = df_mundial_melt.drop(['Indicator Name', 'Indicator Code'], axis=1)\n",
    "\n",
    "# Sort the DataFrame by country and year\n",
    "df_mundial_melt = df_mundial_melt.sort_values(['Country Name', 'Year'])\n",
    "\n",
    "# Reset the index of the DataFrame\n",
    "df_mundial_melt = df_mundial_melt.reset_index(drop=True)"
   ]
  }
 ],
 "metadata": {
  "kernelspec": {
   "display_name": "Python 3",
   "language": "python",
   "name": "python3"
  },
  "language_info": {
   "codemirror_mode": {
    "name": "ipython",
    "version": 3
   },
   "file_extension": ".py",
   "mimetype": "text/x-python",
   "name": "python",
   "nbconvert_exporter": "python",
   "pygments_lexer": "ipython3",
   "version": "3.10.5"
  },
  "orig_nbformat": 4
 },
 "nbformat": 4,
 "nbformat_minor": 2
}
