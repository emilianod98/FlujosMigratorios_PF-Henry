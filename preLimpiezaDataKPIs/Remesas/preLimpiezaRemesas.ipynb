{
 "cells": [
  {
   "attachments": {},
   "cell_type": "markdown",
   "metadata": {},
   "source": [
    "Importacion de Liberarias"
   ]
  },
  {
   "cell_type": "code",
   "execution_count": 10,
   "metadata": {},
   "outputs": [],
   "source": [
    "import pandas as pd\n",
    "import numpy as np\n",
    "import matplotlib as plt"
   ]
  },
  {
   "attachments": {},
   "cell_type": "markdown",
   "metadata": {},
   "source": [
    "Carga de data remesas"
   ]
  },
  {
   "cell_type": "code",
   "execution_count": null,
   "metadata": {},
   "outputs": [],
   "source": [
    "df_remesas = pd.read_csv(\"./API_BM.TRF.PWKR.CD.DT_DS2_en_csv_v2_5362414.csv\")\n",
    "df_remesas\n"
   ]
  },
  {
   "attachments": {},
   "cell_type": "markdown",
   "metadata": {},
   "source": [
    "Colapso de la informacion de anios en una sola columna"
   ]
  },
  {
   "cell_type": "code",
   "execution_count": 14,
   "metadata": {},
   "outputs": [],
   "source": [
    "import pandas as pd\n",
    "\n",
    "# Melt the DataFrame to create the 'Year' column\n",
    "df_remesas_melt = pd.melt(df_remesas, id_vars=['Country Name', 'Country Code', 'Indicator Name', 'Indicator Code'],\n",
    "                          value_vars=[str(year) for year in range(1960, 2022)],\n",
    "                          var_name='Year', value_name='Value')\n",
    "\n",
    "# Drop the 'Indicator Name' and 'Indicator Code' columns since they are not relevant for your analysis\n",
    "df_remesas_melt = df_remesas_melt.drop(['Indicator Name', 'Indicator Code'], axis=1)\n",
    "\n",
    "# Sort the DataFrame by country and year\n",
    "df_remesas_melt = df_remesas_melt.sort_values(['Country Name', 'Year'])\n",
    "\n",
    "# Reset the index of the DataFrame\n",
    "df_remesas_melt = df_remesas_melt.reset_index(drop=True)\n"
   ]
  },
  {
   "attachments": {},
   "cell_type": "markdown",
   "metadata": {},
   "source": [
    "Guardado de la tabla Remesas"
   ]
  },
  {
   "cell_type": "code",
   "execution_count": null,
   "metadata": {},
   "outputs": [],
   "source": [
    "df_remesas_melt.to_csv('remesas.csv', index=False)"
   ]
  },
  {
   "cell_type": "code",
   "execution_count": null,
   "metadata": {},
   "outputs": [],
   "source": [
    "df_top5 = df1[(df1['Country Name'] == 'Spain') | (df1['Country Name'] == 'Belgium') | (df1['Country Name'] == 'Switzerland') | (df1['Country Name'] == 'Denmark') | (df1['Country Name'] == 'Germany')]"
   ]
  },
  {
   "attachments": {},
   "cell_type": "markdown",
   "metadata": {},
   "source": [
    "Leyendo la tabla remesas"
   ]
  },
  {
   "cell_type": "code",
   "execution_count": 4,
   "metadata": {},
   "outputs": [],
   "source": [
    "df_remesas = pd.read_csv(\"remesas.csv\")"
   ]
  },
  {
   "cell_type": "code",
   "execution_count": 5,
   "metadata": {},
   "outputs": [
    {
     "data": {
      "text/html": [
       "<div>\n",
       "<style scoped>\n",
       "    .dataframe tbody tr th:only-of-type {\n",
       "        vertical-align: middle;\n",
       "    }\n",
       "\n",
       "    .dataframe tbody tr th {\n",
       "        vertical-align: top;\n",
       "    }\n",
       "\n",
       "    .dataframe thead th {\n",
       "        text-align: right;\n",
       "    }\n",
       "</style>\n",
       "<table border=\"1\" class=\"dataframe\">\n",
       "  <thead>\n",
       "    <tr style=\"text-align: right;\">\n",
       "      <th></th>\n",
       "      <th>Country Name</th>\n",
       "      <th>Country Code</th>\n",
       "      <th>Year</th>\n",
       "      <th>Value</th>\n",
       "    </tr>\n",
       "  </thead>\n",
       "  <tbody>\n",
       "    <tr>\n",
       "      <th>0</th>\n",
       "      <td>Afghanistan</td>\n",
       "      <td>AFG</td>\n",
       "      <td>1960</td>\n",
       "      <td>NaN</td>\n",
       "    </tr>\n",
       "    <tr>\n",
       "      <th>1</th>\n",
       "      <td>Afghanistan</td>\n",
       "      <td>AFG</td>\n",
       "      <td>1961</td>\n",
       "      <td>NaN</td>\n",
       "    </tr>\n",
       "    <tr>\n",
       "      <th>2</th>\n",
       "      <td>Afghanistan</td>\n",
       "      <td>AFG</td>\n",
       "      <td>1962</td>\n",
       "      <td>NaN</td>\n",
       "    </tr>\n",
       "    <tr>\n",
       "      <th>3</th>\n",
       "      <td>Afghanistan</td>\n",
       "      <td>AFG</td>\n",
       "      <td>1963</td>\n",
       "      <td>NaN</td>\n",
       "    </tr>\n",
       "    <tr>\n",
       "      <th>4</th>\n",
       "      <td>Afghanistan</td>\n",
       "      <td>AFG</td>\n",
       "      <td>1964</td>\n",
       "      <td>NaN</td>\n",
       "    </tr>\n",
       "  </tbody>\n",
       "</table>\n",
       "</div>"
      ],
      "text/plain": [
       "  Country Name Country Code  Year  Value\n",
       "0  Afghanistan          AFG  1960    NaN\n",
       "1  Afghanistan          AFG  1961    NaN\n",
       "2  Afghanistan          AFG  1962    NaN\n",
       "3  Afghanistan          AFG  1963    NaN\n",
       "4  Afghanistan          AFG  1964    NaN"
      ]
     },
     "execution_count": 5,
     "metadata": {},
     "output_type": "execute_result"
    }
   ],
   "source": [
    "df_remesas.head()"
   ]
  },
  {
   "cell_type": "code",
   "execution_count": 7,
   "metadata": {},
   "outputs": [
    {
     "data": {
      "text/plain": [
       "5783081084.377266"
      ]
     },
     "execution_count": 7,
     "metadata": {},
     "output_type": "execute_result"
    }
   ],
   "source": [
    "import pandas as pd\n",
    "\n",
    "# Seleccionar solo las filas correspondientes a los paises que nos interesan\n",
    "df_paises = df_remesas[df_remesas['Country Name'].isin(['Belgium', 'Spain', 'Switzerland', 'Germany', 'Denmark'])]\n",
    "\n",
    "# Calcular el promedio de los valores de la columna 'Value'\n",
    "promedio = df_paises['Value'].mean()\n",
    "\n",
    "promedio\n",
    "# print(\"El promedio de la columna 'Value' para los paises 'Belgium', 'Spain', 'Switzerland', 'Germany' y 'Denmark' es: \", promedio)\n"
   ]
  },
  {
   "attachments": {},
   "cell_type": "markdown",
   "metadata": {},
   "source": [
    "Los 5 tails"
   ]
  },
  {
   "cell_type": "code",
   "execution_count": 17,
   "metadata": {},
   "outputs": [
    {
     "data": {
      "text/plain": [
       "572787142.176182"
      ]
     },
     "execution_count": 17,
     "metadata": {},
     "output_type": "execute_result"
    }
   ],
   "source": [
    "df_top5 = df_remesas[(df_remesas['Country Name'] == 'Poland') | (df_remesas['Country Name'] == 'Turkiye') | (df_remesas['Country Name'] == 'Romania') | (df_remesas['Country Name'] == 'Syrian Arab Republic') | (df_remesas['Country Name'] == 'Morocco')]\n",
    "df_top5['Value'].mean()"
   ]
  },
  {
   "cell_type": "code",
   "execution_count": 16,
   "metadata": {},
   "outputs": [
    {
     "data": {
      "image/png": "[encoded data removed]",
      "text/plain": [
       "<Figure size 640x480 with 1 Axes>"
      ]
     },
     "metadata": {},
     "output_type": "display_data"
    }
   ],
   "source": [
    "import seaborn as sns\n",
    "import matplotlib.pyplot as plt\n",
    "\n",
    "# Crea un histograma de la columna 'Value' para todos los países\n",
    "sns.histplot(data=df_top5, x='Value', kde=True)\n",
    "\n",
    "# Calcula la media de la columna 'Value'\n",
    "mean = df_top5['Value'].mean()\n",
    "\n",
    "# Agrega una línea vertical en la media\n",
    "plt.axvline(x=mean, color='red', linestyle='--', label=f'Media: {mean:.2f}')\n",
    "\n",
    "# Personaliza la gráfica\n",
    "plt.xlabel('Value')\n",
    "plt.ylabel('Frecuencia')\n",
    "plt.title('Distribución Remesas')\n",
    "plt.legend()\n",
    "\n",
    "# Muestra la gráfica\n",
    "plt.show()\n"
   ]
  }
 ],
 "metadata": {
  "kernelspec": {
   "display_name": "Python 3",
   "language": "python",
   "name": "python3"
  },
  "language_info": {
   "codemirror_mode": {
    "name": "ipython",
    "version": 3
   },
   "file_extension": ".py",
   "mimetype": "text/x-python",
   "name": "python",
   "nbconvert_exporter": "python",
   "pygments_lexer": "ipython3",
   "version": "3.10.5"
  },
  "orig_nbformat": 4
 },
 "nbformat": 4,
 "nbformat_minor": 2
}
